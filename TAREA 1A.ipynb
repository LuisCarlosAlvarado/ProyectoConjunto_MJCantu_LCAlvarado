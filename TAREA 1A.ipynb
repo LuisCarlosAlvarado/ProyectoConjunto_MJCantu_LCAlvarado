{
 "cells": [
  {
   "cell_type": "markdown",
   "metadata": {},
   "source": [
    "# TAREA 1 A\n",
    "Creada por: María José Cantú y Luis Carlos Alvarado\n",
    "\n",
    "\n",
    "- Estudiante 1: María José Cantú\n",
    "- Estudiante 2: Luis Carlos Alvarado"
   ]
  },
  {
   "cell_type": "markdown",
   "metadata": {},
   "source": [
    "### EXPECTATIVAS DEL CURSO\n",
    "- Primero que nada el aprendizaje de ciertas herramientas y programas simples para la implementación de dichas simulaciones creadas en la clase.\n",
    "- La creación de simulaciones para los diferentes comportamientos de procesos financieros\n",
    "- Poder tomar decisiones en base a las simulaciones creadas\n",
    "- Aprender a usar GitHub, GitKraken, Jupyter, Python, entre otros programas"
   ]
  },
  {
   "cell_type": "markdown",
   "metadata": {},
   "source": [
    "|$i$                       | $x$                         |                        $f(x)$|\n",
    "|--------------------------|-----------------------------|------------------------------|\n",
    "|$0$                         |$-1$                           |                        $0.3678$|\n",
    "|<span style=\"color:red\">$1$|<span style=\"color:red\"> $-0.5$|<span style=\"color:red\">$0.7788$|\n",
    "|<span style=\"color:blue\">$2$|<span style=\"color:blue\">$0$   |<span style=\"color:blue\">    $1$|\n",
    "|<span style=\"color:red\"> $3$|<span style=\"color:red\"> $0.5$ |<span style=\"color:red\">$0.7788$|\n",
    "|$4$                         |$1$                            |                        $0.3678$|\n",
    "    \n",
    "<p style='text-align: center;'>$\\text{Cuadro 1: Tabla de valores de $f(x)$}$\n",
    "    \n",
    "<p style='text-align: center;'> $ \\int_{-1}^{1} e^{-x^{2}} \\approx \\frac{0,5}{3} [f(-1) + f(1) + 4($<span style=\"color:red\">$f(-0,5) + f(0,5)$</span>$) + 2 $<span style=\"color:blue\" > $f(0)$</span>$]$\n",
    "    \n",
    "<p style='text-align: center;'> $\\approx$ $ \\frac{0,5}{3} [0,3678 + 0,3678 + 4($<span style=\"color:red\">$0,7788 + 0,7788 $</span>$) + 2 \\cdot$<span style=\"color:blue\" > $1$</span>$]  \\approx 1,4943$\n",
    "    \n",
    "<p style='text-align: center;'> A modo de verificación, se calculará por software, el valor del área para $n=100$, un valor mucho más elevado al que se utilizó anteriormente. Si lo calculado previamente es correcto, se esperaría que sea próximo al valor presentado a continuación para que sea una buena aproximación.\n",
    "    \n",
    "<p style='text-align: center;'> $ f(x) = \\int_{-1}^{1} e^{-x^{2}}dx \\approx 1,4936$\n",
    "    \n",
    "<p style='text-align: center;'>$\\text{Figura 1: Figura transcrita por María José Cantú}$"
   ]
  },
  {
   "cell_type": "markdown",
   "metadata": {},
   "source": [
    "|  $i$   |1  |2  |3  |4  |5|6|7 |\n",
    "|--------|---|---|---|---|-|-|--|\n",
    "|$E_i(V)$|12 |10 |24 |12 |-|-|-|\n",
    "|$r_i(\\Omega)$|0.1|0.5|0.2|0.5|-|-|-|\n",
    "|$r_i(\\Omega)$|25 |40 |16 |20 |9|4|20|\n",
    "\n",
    "<span style=\"color:blue\"> Kemna y Vorst (1990) </span> muestran que las opciones asiáticas con media geométrica continua se pueden valuar con el mismo enfoque de las opciones *plain vanilla*; sólo se deben cambiar los parámetros de volatilidad de $\\sigma$ por $\\sigma_a$, y el costo de acarreo de $b$ por $b_A$.\n",
    "\n",
    "De acuerdo con Kemna y Vorst, las fórmulas para valuar una opción de compra y una opción de venta son:\n",
    "\n",
    "$c \\approx S_te^{(b_A-r)(T-t}\\phi(d_1) - Ke^{-r(T-t}\\phi(d_2),$ \n",
    "\n",
    "$p \\approx Ke^{-r(T-t}\\phi(-d_2) - S_te^{(b_A-r)(T-t}\\phi(-d_1).$\n",
    "\n",
    "con $d_1$ y $d_2$ dados por:\n",
    "\n",
    "$d_1 = \\frac {\\ln(\\frac{S_t}{K}) + (b_A + \\frac{1}{2}\\sigma_a^{2})(T-t)}{\\sigma \\sqrt{T-t}},$ \n",
    "\n",
    "$d_2 = d_1 -\\sigma_a \\sqrt{T-t}.$ \n",
    "\n",
    "La función $\\phi(d)$ es la función de distribución acumulada de $E \\text{~} N(0,1).$ La volatilidad ajustada es igual a:\n",
    "\n",
    "$\\sigma_a = \\frac{\\sigma}{\\sqrt{3}}.$\n",
    "\n",
    "mientras que el costo de acarreo ajustado es:\n",
    "\n",
    "$b_A = \\frac{1}{2} (v - \\frac{\\sigma^{2}}{6})$\n",
    "    \n",
    "<p style='text-align: center;'>$\\text{Figura 2: Figura transcrita por Luis Carlos Alvarado}$"
   ]
  },
  {
   "cell_type": "markdown",
   "metadata": {},
   "source": [
    "\n",
    "### CONCLUSIONES\n",
    "\n",
    "En esta primera tarea, aprendimos a relizar un trabajo en parejas con la ayuda de:\n",
    "- GitHub \n",
    "- GitKraken\n",
    "- Jupyter\n",
    "\n",
    "\n",
    "\n",
    "1. Estudiante 1: María José Cantú\n",
    "2. Estudiante 2: Luis Carlos Alvarado\n",
    "\n",
    "\n",
    "\n",
    "Mediante GitHub el estudiante 1 creo un repositorio y el otro le hizo **fork** para los dos tenerlo. Después mediante GitKraken se clono ese **repositorio** por parte de los dos estudiantes, el que no lo creo tuvo que hacer un **REMOVE** para que este mismo pueda ver todos los cambios efectuados por el estudiante que lo creo.\n",
    "Después con Jupyter se creo un *notebook* para realizar la tarea, al hacer los cambios el estudiante 2 podia ver todos estos mismos en su computador gracias a GitKraken, pero a la hora de el hacer un cambio tuvo que hacer un **PULL REQUEST** al estudiante 1 con sus cambios, y este mismo si estaba de acuerdo hacia un **MERGE**, y asi los dos estudiantes estuvieron viendo todos los cambios efectuados y actualizados en un mismo archivo.\n",
    "Se utilizaron todos los *markdown* de Jupyter para poder recrear las dos figuras pedidas por el maestro.\n",
    "\n",
    "Estas fueron las herramientas utilizadas en estas tareas para que el maestro se diera cuenta de que si aprendimos a usar todas estas diferentes plataformas, ya que es una manera muy fácil y sencilla en la que dos personas puedan colaborar en un trabajo en conjunto, viendo y agregando todos los cambios con gran facilidad.\n"
   ]
  }
 ],
 "metadata": {
  "kernelspec": {
   "display_name": "Python 3",
   "language": "python",
   "name": "python3"
  },
  "language_info": {
   "codemirror_mode": {
    "name": "ipython",
    "version": 3
   },
   "file_extension": ".py",
   "mimetype": "text/x-python",
   "name": "python",
   "nbconvert_exporter": "python",
   "pygments_lexer": "ipython3",
   "version": "3.8.3"
  }
 },
 "nbformat": 4,
 "nbformat_minor": 4
}
