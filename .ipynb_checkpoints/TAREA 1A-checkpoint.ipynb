{
 "cells": [
  {
   "cell_type": "markdown",
   "metadata": {},
   "source": [
    "# TAREA 1 A\n",
    "María José Cantú y Luis Carlos Alvarado"
   ]
  },
  {
   "cell_type": "markdown",
   "metadata": {},
   "source": [
    "## EXPECTATIVAS DEL CURSO"
   ]
  },
  {
   "cell_type": "code",
   "execution_count": null,
   "metadata": {},
   "outputs": [],
   "source": []
  },
  {
   "cell_type": "markdown",
   "metadata": {},
   "source": [
    "|  $i$   |1  |2  |3  |4  |5|6|7 |\n",
    "|--------|---|---|---|---|-|-|--|\n",
    "|$E_i(V)$|12 |10 |24 |12 |-|-|-|\n",
    "|$r_i(\\Omega)$|0.1|0.5|0.2|0.5|-|-|-|\n",
    "|$r_i(\\Omega)$|25 |40 |16 |20 |9|4|20|\n",
    "\n",
    "<span style=\"color:blue\"> Kemna y Vorst (1990) </span> muestran que las opciones asiáticas con media geométrica continua se pueden valuar con el mismo enfoque de las opciones *plain vanilla*; sólo se deben cambiar los parámetros de volatilidad de $\\sigma$ por $\\sigma_a$, y el costo de acarreo de $b$ por $b_A$.\n",
    "De acuerdo con Kemna y Vorst, las fórmulas para valuar una opción de compra y una opción de venta son:\n",
    "\n",
    "$c \\approx S_te^{(b_A-r)(T-t}\\phi(d1) - Ke^{-r(T-t}\\phi(d2),$ \n",
    "\n",
    "$p \\approx Ke^{-r(T-t}\\phi(-d2) - S_te^{(b_A-r)(T-t}\\phi(-d1).$\n",
    "\n",
    "con d1 y d2 dados por:\n",
    "\n",
    "$d1 = \\frac {\\ln(\\frac{S_t}{K}) + (b_A + \\frac{1}{2}\\sigma_a^{2})(T-t)}{\\sigma \\sqrt{T-t}},$ \n",
    "\n",
    "$d2 = d1 -\\sigma_a \\sqrt{T-t}.$ \n",
    "\n",
    "La función $\\phi(d)$ es la función de distribución acumulada de $E N(0,1).$ La volatilidad ajustada es igual a:\n",
    "\n",
    "$\\sigma_a = \\frac{\\sigma}{\\sqrt{3}}.$\n",
    "\n",
    "mientras que el costo de acarreo ajustado es:\n",
    "\n",
    "$b_A = \\frac{1}{2} (v - \\frac{\\sigma^{2}}{6})$"
   ]
  },
  {
   "cell_type": "code",
   "execution_count": null,
   "metadata": {},
   "outputs": [],
   "source": []
  }
 ],
 "metadata": {
  "kernelspec": {
   "display_name": "Python 3",
   "language": "python",
   "name": "python3"
  },
  "language_info": {
   "codemirror_mode": {
    "name": "ipython",
    "version": 3
   },
   "file_extension": ".py",
   "mimetype": "text/x-python",
   "name": "python",
   "nbconvert_exporter": "python",
   "pygments_lexer": "ipython3",
   "version": "3.7.4"
  }
 },
 "nbformat": 4,
 "nbformat_minor": 4
}
